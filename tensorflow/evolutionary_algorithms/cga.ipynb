{
  "nbformat": 4,
  "nbformat_minor": 0,
  "metadata": {
    "colab": {
      "name": "cga.ipynb",
      "provenance": [],
      "collapsed_sections": [],
      "toc_visible": true
    },
    "kernelspec": {
      "name": "python3",
      "display_name": "Python 3"
    }
  },
  "cells": [
    {
      "cell_type": "markdown",
      "metadata": {
        "id": "RnW276uUnaYR",
        "colab_type": "text"
      },
      "source": [
        "# The compact Genetic Algorithm and TensorFlow\n",
        "\n",
        "And what a better way to explore [TensorFlow](https://www.tensorflow.org/) than exploring howe to implement the classic _compact Genetic Algorith_ (cGA) unsing it. \n"
      ]
    },
    {
      "cell_type": "markdown",
      "metadata": {
        "id": "YHxr9Lk5PJWa",
        "colab_type": "text"
      },
      "source": [
        "\n",
        "## Why is cGA interesting?\n",
        "\n",
        "The Compact Genetic Algorithm (cGA) was proposed by Harik, Lobo, and Goldberg in 1999 [Harik1999](https://ieeexplore.ieee.org/abstract/document/797971). cCA belongs to a particular kind of evolutionary algorithms, usually named _probabilistic model-building genetic algoriths_ (also known as _estimation distribution algorithms_ or _iterated density estimation algorithms_). You can find an itroduction in this [tutorial](http://medal-lab.org/files/PMBGA_tutorial.pdf) by Pelikan.\n",
        "\n",
        "cGA main trait is it replaces the population with a model (or distribution) of the individuals in the population. cGA assumes all bits that define an individual can be considered independent. Hence, the model is pretty simple. cGA replaces the population with probabilities table for each of the locus of the individuals. Given that if focus on binary encoded individuals, the table fore each locus only requires to model the probability of 0 and the probobility of 1. Also, given tha you only have two possible values {0, 1}, you can express $p_0$ as $p_0 = 1 - p_1$. Thus, the population model for cGA is a vector of floating point values $v \\in [0, 1]$ representing the $p_1$ at any given locus.\n",
        "\n",
        "You may wonder why is this interesting. On a traditional genetic algorith (GA) population requires proper sizing to avoid pitfalls like premature convergence. By modeling the distribution of the population instead, you can actually, given the same memory used by a traditional population, tackle a way larger problem. You may point out that the encoding of a probability is more expensive than a bit. Yes, but the memory needed as the model grows is linear only to the length of the problem _O(l)_ instead of linearly to the length of the individual times the population size _O(lp)_. Traditional GA population sizing [Golberg2002](https://dl.acm.org/doi/book/10.5555/579754) suggest that for non deceptive problems population should be set to $O(n\\centerdot log(n))$, being _n_ the number of building blocks. We can appoximate for this problems $n=l$, showing that the RAM you need now grow $O(l^2\\centerdot log(l))$. \n",
        "\n",
        "Anyway, enough of the diversion. Let's see how can we implement _cGA_ using [TensorFlow](https://www.tensorflow.org/)."
      ]
    },
    {
      "cell_type": "markdown",
      "metadata": {
        "id": "rVesPeX4PFWR",
        "colab_type": "text"
      },
      "source": [
        "## What is TensorFlow\n",
        "\n",
        "If you go to TensorFlow (TF) [website](https://www.tensorflow.org/) the elevator pich says:\n",
        "\n",
        "> TensorFlow is an end-to-end open source platform for machine learning. It has a comprehensive, flexible ecosystem of tools, libraries and community resources that lets researchers push the state-of-the-art in ML and developers easily build and deploy ML powered applications.\n",
        "\n",
        "As you may guess from the name, it is build around [tensors](https://en.wikipedia.org/wiki/Tensor). You can think of them as generalized multidimensional arrays. TF allows you to express and manipulate tensors to write algorithms. The framework also provide support for hardware acceleration. So, let's see how we can write _cGA_ unsing the [TensorFlow API](https://www.tensorflow.org/). \n",
        "\n",
        "Before you continue, please make sure you have TensorFlow installed following these [instructions](https://www.tensorflow.org/install). You may also run this notebook on Google's Colab following this [link](https://colab.sandbox.google.com/github/xllora/notebooks/blob/master/tensorflow/evolutionary_algorithms/cga.ipynb).\n",
        "\n",
        "Once you finish the steps outline in the instruction, you should be able to run the piece of code below and get the same answer (version may vary)."
      ]
    },
    {
      "cell_type": "code",
      "metadata": {
        "id": "nNoVuTvtbfGS",
        "colab_type": "code",
        "outputId": "3f864270-5f29-405f-a21f-8da6cd892d67",
        "colab": {
          "base_uri": "https://localhost:8080/",
          "height": 34
        }
      },
      "source": [
        "import matplotlib.pyplot as plt\n",
        "import tensorflow as tf\n",
        "from packaging import version\n",
        "from tqdm import tqdm\n",
        "\n",
        "print(\"TensorFlow version: \", tf.__version__)\n",
        "assert version.parse(tf.__version__).release[0] >= 2, \\\n",
        "    \"This notebook requires TensorFlow 2.0 or above.\""
      ],
      "execution_count": 0,
      "outputs": [
        {
          "output_type": "stream",
          "text": [
            "TensorFlow version:  2.2.0\n"
          ],
          "name": "stdout"
        }
      ]
    },
    {
      "cell_type": "markdown",
      "metadata": {
        "id": "jNxmultP8PiC",
        "colab_type": "text"
      },
      "source": [
        "# Solving a problem using the compact GA\n",
        "\n",
        "The first step is to define what shape will take the individuals of our binary population. A traditional binary string would be represented by a one-dimensional tensor. For the purpose of this example, and to illustrate than cGA individuals can take any arbitrary tensor shape and size, we will model individuals as two-dimensional tensors with the given shape `(10, 10)`. "
      ]
    },
    {
      "cell_type": "code",
      "metadata": {
        "id": "x-Xoad-hbhPh",
        "colab_type": "code",
        "outputId": "62ee7532-12f3-419f-b193-e09791cfec8c",
        "colab": {
          "base_uri": "https://localhost:8080/",
          "height": 119
        }
      },
      "source": [
        "import math\n",
        "import functools \n",
        "import operator \n",
        "\n",
        "# Individual definitions.\n",
        "INDIVIDUAL_SHAPE = (10, 10)\n",
        "POSSIBLE_LOCI = functools.reduce(operator.mul, INDIVIDUAL_SHAPE)\n",
        "\n",
        "# Population definitions.\n",
        "POPULATION_SIZE = 10 * POSSIBLE_LOCI\n",
        "\n",
        "# Model definitions.\n",
        "MODEL_DTYPE = tf.float64\n",
        "MODEL_UPDATE_FACTOR = 1.0 / POPULATION_SIZE\n",
        "MODEL_MAX_ITERATION_UPDATES = int(5 * POPULATION_SIZE * math.log2(POPULATION_SIZE))\n",
        "\n",
        "print(\"Indvidual tensor shape:         \", INDIVIDUAL_SHAPE)\n",
        "print(\"Individual number of loci:      \", POSSIBLE_LOCI)\n",
        "print(\"Population size:                \", POPULATION_SIZE)\n",
        "print(\"Model tensor type:              \", MODEL_DTYPE)\n",
        "print(\"Model update factor:            \", MODEL_UPDATE_FACTOR)\n",
        "print(\"Model maximum iteration updates:\", MODEL_MAX_ITERATION_UPDATES)\n",
        "\n"
      ],
      "execution_count": 0,
      "outputs": [
        {
          "output_type": "stream",
          "text": [
            "Indvidual tensor shape:          (10, 10)\n",
            "Individual number of loci:       100\n",
            "Population size:                 1000\n",
            "Model tensor type:               <dtype: 'float64'>\n",
            "Model update factor:             0.001\n",
            "Model maximum iteration updates: 49828\n"
          ],
          "name": "stdout"
        }
      ]
    },
    {
      "cell_type": "markdown",
      "metadata": {
        "id": "e0ZVy9ebhKs6",
        "colab_type": "text"
      },
      "source": [
        "There are a few definitions above. Let's break each one down.\n",
        "\n",
        "* _INDIVIDUAL_SHAPE_: Represents the shape of the tensor that will represent a binary individual in the population. In this exampe is a 2D array of 10 entries for each dimension. You should choose the shape that will solve the problem you want to solve.\n",
        "* _POSSIBLE_LOCI_: Computes the total number of positions give the individual tensor shape. In this particular example $10 \\times 10 = 100$ \n",
        "* _POPULATION_SIZE_: A good rule of the thumb approximation to set the population for problems where all individual loci are independen is to set it to 10 times the possible loci. A detailed analysis you can found in [Golberg2002](https://dl.acm.org/doi/book/10.5555/579754).\n",
        "* _MODEL_DTYPE_: Specifies the basic data types we are going to use to represent the loci probabilities.\n",
        "* _MODEL_UPDATE_FACTOR_: The model update factor as set in [Harik1999](https://ieeexplore.ieee.org/abstract/document/797971). We will go over it with more detail below. For now, you can think of it as a way to control how much the probabilities in the model will change with each iteration.\n",
        "* _MODEL_MAX_ITERATIONS_: The maximun iterations after which we should stop updating the model.  A detailed analysis of how to estimate it for GAs optimizing binary strings where each loci is considered independent can found in [Golberg2002](https://dl.acm.org/doi/book/10.5555/579754)."
      ]
    },
    {
      "cell_type": "markdown",
      "metadata": {
        "id": "-GZ4N4pqsRyX",
        "colab_type": "text"
      },
      "source": [
        "# The problem to solve, or the fitness function\n",
        "\n",
        "The problem definition to solve is encapsulated in the _finess_ function. The goal of this function is to compute a 0-dimensional tensor. This function will be the one that cGA will try to maximize. \n",
        "\n",
        "The simplest example of a function where all loci are independent is the exhaustively studied $one\\_max$. It has a simple definitien \n",
        "\n",
        "$$\n",
        "one\\_max(ind) = \\sum_i{ind_i}\n",
        "$$\n",
        "\n",
        "The $one\\_max$ function below implements it in TensorFlow."
      ]
    },
    {
      "cell_type": "code",
      "metadata": {
        "id": "UxqpRFvB9U8z",
        "colab_type": "code",
        "outputId": "d459ce4e-aaad-4ab5-ad5d-ddca4769dcb1",
        "colab": {
          "base_uri": "https://localhost:8080/",
          "height": 170
        }
      },
      "source": [
        "def one_max(ind):\n",
        "  return tf.reduce_sum(ind)\n",
        "\n",
        "ind = tf.constant(\n",
        "    tf.cast(\n",
        "        tf.random.uniform(\n",
        "            INDIVIDUAL_SHAPE,\n",
        "            minval=0,\n",
        "            maxval=2),\n",
        "        dtype=tf.uint8))\n",
        "\n",
        "tf.print(\"Individual:\\n\", ind)\n",
        "tf.print(\"Fitness:   \", one_max(ind))"
      ],
      "execution_count": 0,
      "outputs": [
        {
          "output_type": "stream",
          "text": [
            "Individual:\n",
            " [[0 0 1 ... 0 0 1]\n",
            " [1 1 1 ... 0 0 1]\n",
            " [0 1 1 ... 1 0 0]\n",
            " ...\n",
            " [0 0 1 ... 0 0 0]\n",
            " [1 1 1 ... 0 0 0]\n",
            " [1 1 0 ... 0 0 1]]\n",
            "Fitness:    50\n"
          ],
          "name": "stdout"
        }
      ]
    },
    {
      "cell_type": "markdown",
      "metadata": {
        "id": "T83Mn4QcwucX",
        "colab_type": "text"
      },
      "source": [
        "Using TensorFlow, $one_max$ can be just simply written as a call to `tf.reduce_sum` which returns the sum of all the values of a tensor. \n",
        "\n",
        "It is worth mention that the individual is modeled as `tf.costant`. This is because you can consider idividuals as values that do not change."
      ]
    },
    {
      "cell_type": "markdown",
      "metadata": {
        "id": "YI1eh3txwlMI",
        "colab_type": "text"
      },
      "source": [
        "# Defining the cGA probabilities model\n",
        "\n",
        "\n",
        "As we introduced earlier, cGA relies on a model that tracks the $p_1$ at any given locus $i$. A model is something that will change, hence, in TensorFlow you will model it as a `tf.Variable`. \n",
        "\n"
      ]
    },
    {
      "cell_type": "code",
      "metadata": {
        "id": "Hx5jZaCMxvH5",
        "colab_type": "code",
        "outputId": "c12842e4-de17-4f4d-b702-563385ce3d87",
        "colab": {
          "base_uri": "https://localhost:8080/",
          "height": 153
        }
      },
      "source": [
        "model = tf.Variable(tf.scalar_mul(0.5, tf.ones(INDIVIDUAL_SHAPE, dtype=MODEL_DTYPE)))\n",
        "\n",
        "tf.print(\"Initial model:\\n\", model)"
      ],
      "execution_count": 0,
      "outputs": [
        {
          "output_type": "stream",
          "text": [
            "Initial model:\n",
            " [[0.5 0.5 0.5 ... 0.5 0.5 0.5]\n",
            " [0.5 0.5 0.5 ... 0.5 0.5 0.5]\n",
            " [0.5 0.5 0.5 ... 0.5 0.5 0.5]\n",
            " ...\n",
            " [0.5 0.5 0.5 ... 0.5 0.5 0.5]\n",
            " [0.5 0.5 0.5 ... 0.5 0.5 0.5]\n",
            " [0.5 0.5 0.5 ... 0.5 0.5 0.5]]\n"
          ],
          "name": "stdout"
        }
      ]
    },
    {
      "cell_type": "markdown",
      "metadata": {
        "id": "KdOv0ozozLoA",
        "colab_type": "text"
      },
      "source": [
        "As you can see in the above example. The model is initialized with no prior knowledge, hence, all probabilities are set to $0.5$. Another way to think about the initial model as a model that assigns the same probability to all possible individuals."
      ]
    },
    {
      "cell_type": "markdown",
      "metadata": {
        "id": "g5djBqKNz9Ek",
        "colab_type": "text"
      },
      "source": [
        "# Sampling the model\n",
        "\n",
        "cGA samples the model to generate individuals based on the model probabilities. You sample a new individual by generating a uniform random number for each locus and returning $1$ if that value is smaller that the probability of that locus, or $0$ otherwise."
      ]
    },
    {
      "cell_type": "code",
      "metadata": {
        "id": "ExfzxgAn39pN",
        "colab_type": "code",
        "outputId": "cd7aa2ad-29cc-48b8-b17c-555043a73a96",
        "colab": {
          "base_uri": "https://localhost:8080/",
          "height": 153
        }
      },
      "source": [
        "def sample_model(model):\n",
        "  return tf.cast(\n",
        "      tf.math.less(\n",
        "          tf.random.uniform(INDIVIDUAL_SHAPE, dtype=MODEL_DTYPE), \n",
        "          model), \n",
        "      dtype=MODEL_DTYPE)\n",
        "  \n",
        "tf.print(\"Sampled individual from the model:\\n\", sample_model(model))"
      ],
      "execution_count": 0,
      "outputs": [
        {
          "output_type": "stream",
          "text": [
            "Sampled individual from the model:\n",
            " [[0 0 0 ... 0 0 1]\n",
            " [0 0 1 ... 0 1 1]\n",
            " [1 1 1 ... 0 0 1]\n",
            " ...\n",
            " [1 0 0 ... 1 1 1]\n",
            " [1 1 1 ... 0 0 1]\n",
            " [1 1 1 ... 0 0 0]]\n"
          ],
          "name": "stdout"
        }
      ]
    },
    {
      "cell_type": "markdown",
      "metadata": {
        "id": "o3d9O_5g2Ewg",
        "colab_type": "text"
      },
      "source": [
        "The above `sample_model` funtion just does exactily that, but using tensors. `tf.radom_uniforn` return a random tensor with the same shape of the model. Then, these tensor is compared element-wise using `tf.math.less`. The outputh is the sampled individual as a tensor of boolean values. The final step is to cast those booleans to the same type of the model probabilities. We will see why in the following section as we define how to updade the model. "
      ]
    },
    {
      "cell_type": "markdown",
      "metadata": {
        "id": "Ib12h1Il25hp",
        "colab_type": "text"
      },
      "source": [
        "# Updating the model\n",
        "\n",
        "The goal of cGA is to iteratively update the model until convergence. We will conver convergece in the next section. For now, let's focus on howe we can generate one iteration update of the cGA model. The update is computed using the following steps:\n",
        "\n",
        "1. Sample two individuals ($ind_1$, $ind_2$) from the model as we saw in `sample_model`.\n",
        "2. Compute the fitness for each of the sampled individuals given the provided fitness function.\n",
        "3. Compute the update towards direction indicated by the tornament winner (the individual that satisfies $argmax(fitness(ind_1), fitness(ind_2))$. If you want to minimize the fitness function instead you could just use $argmin$ instead.\n",
        "4. Scale the update by `MODEL_UPDATE_FACTOR`.\n",
        "\n",
        "You can implement this update in TensorFlow as follows."
      ]
    },
    {
      "cell_type": "code",
      "metadata": {
        "id": "mQjR5FT26vx4",
        "colab_type": "code",
        "outputId": "b5843d81-b361-4b48-f4c4-ea7e38cdfe5e",
        "colab": {
          "base_uri": "https://localhost:8080/",
          "height": 153
        }
      },
      "source": [
        "def compute_udate(model, fitness):\n",
        "  ind1 = sample_model(model)\n",
        "  ind2 = sample_model(model)\n",
        "  if fitness(ind1) < fitness(ind2):\n",
        "    return tf.scalar_mul(MODEL_UPDATE_FACTOR, tf.subtract(ind2, ind1))\n",
        "  else: \n",
        "    return tf.scalar_mul(MODEL_UPDATE_FACTOR, tf.subtract(ind1, ind2))\n",
        "\n",
        "tf.print(\"Model update:\\n\", compute_udate(model, one_max))"
      ],
      "execution_count": 0,
      "outputs": [
        {
          "output_type": "stream",
          "text": [
            "Model update:\n",
            " [[0 -0.001 0.001 ... -0.001 0 -0.001]\n",
            " [0.001 0.001 -0.001 ... 0 0 0]\n",
            " [0 -0.001 0.001 ... 0.001 0 -0.001]\n",
            " ...\n",
            " [0 0 0.001 ... 0 0 0]\n",
            " [0 0 -0.001 ... 0 0.001 0.001]\n",
            " [0 0.001 0 ... -0.001 0.001 0.001]]\n"
          ],
          "name": "stdout"
        }
      ]
    },
    {
      "cell_type": "markdown",
      "metadata": {
        "id": "V0eZEMNw5FY8",
        "colab_type": "text"
      },
      "source": [
        "There are a two new TensorFlow operations in the code above. `tf.substract` just does point substraction of two tensors, and `tf.scalar_mult` multiplies a scalar to all values of the provided tensor. The reason why `sample_model` casted the sampled individual to the same time of the model was just intended to simplify the computation of the model update.\n",
        "\n",
        "An interesting property of the model update is that it will only update loci where the two sampled individuals differ, updating each locus probability towards the value of the winning individual. \n",
        "\n",
        "At this point the only thing left is to add the update to the current model to generate the next model. The function _evolve_ below illustrate this point adding the update to the current model to create the next one using `tf.assign_add` TensorFlow operation."
      ]
    },
    {
      "cell_type": "code",
      "metadata": {
        "id": "81ZrQ7QnCa0G",
        "colab_type": "code",
        "colab": {}
      },
      "source": [
        "def has_converged(model):\n",
        "  return (tf.reduce_all(tf.less_equal(tf.constant(0.99, dtype=MODEL_DTYPE), model)) or\n",
        "          tf.reduce_all(tf.less_equal(model, tf.constant(0.01, dtype=MODEL_DTYPE))))\n",
        "\n",
        "def evolve(model, max_iterations, fitness, callbacks=None):\n",
        "  for i in tqdm(range(max_iterations)):\n",
        "    model.assign_add(compute_udate(model, fitness))\n",
        "    if has_converged(model):\n",
        "      break\n",
        "    if callbacks:\n",
        "      for c in callbacks:\n",
        "        c(model)\n"
      ],
      "execution_count": 0,
      "outputs": []
    },
    {
      "cell_type": "markdown",
      "metadata": {
        "id": "tvTs6AzE7RKz",
        "colab_type": "text"
      },
      "source": [
        "The code above will stop if the model has converge before all `max_iterations` have been been completed. A model has converge if all the probabilitie for each each loci are either $0$ or $1$. Since we are dealing with float64 encoded values we call it converged when we pass 0.99 or 0.01 for all loci.\n",
        "\n",
        "A bonus callback argument is provided to `evolve` intended to contain a list of callback functions. The goal of these functions is just for illustrative purposes to gather statistics of the model as it gets updated."
      ]
    },
    {
      "cell_type": "markdown",
      "metadata": {
        "id": "FtOi19R48gCc",
        "colab_type": "text"
      },
      "source": [
        "# Solving OneMax for (10, 10) tensor individuals\n",
        "\n",
        "We now have all the pieces we need to solve the `one_max` problem for individuals defined as `(10, 10)` tensors. The code below show how you can call `evolve` and aso collect some statistics of how the model evolved."
      ]
    },
    {
      "cell_type": "code",
      "metadata": {
        "id": "atvHMEeSWv3U",
        "colab_type": "code",
        "outputId": "7f2a7a6c-64a7-4da5-c385-efcbf4c4108b",
        "colab": {
          "base_uri": "https://localhost:8080/",
          "height": 173
        }
      },
      "source": [
        "model_summary = []\n",
        "\n",
        "def append(model):\n",
        "  model_summary.append((\n",
        "      tf.reduce_min(model).numpy(), \n",
        "      tf.reduce_mean(model).numpy(), \n",
        "      tf.reduce_max(model).numpy()\n",
        "  ))\n",
        "\n",
        "evolve(model, MODEL_MAX_ITERATION_UPDATES, one_max, callbacks=[append])\n",
        "\n",
        "tf.print(\"Final model:\\n\", model)\n"
      ],
      "execution_count": 0,
      "outputs": [
        {
          "output_type": "stream",
          "text": [
            " 27%|██▋       | 13638/49828 [00:11<00:31, 1139.33it/s]"
          ],
          "name": "stderr"
        },
        {
          "output_type": "stream",
          "text": [
            "Final model:\n",
            " [[0.99700000000000044 0.99800000000000044 1.0000000000000004 ... 0.99700000000000044 0.99800000000000044 0.99900000000000044]\n",
            " [0.99600000000000044 1.0000000000000004 0.99800000000000044 ... 0.99600000000000044 0.99800000000000044 0.99600000000000044]\n",
            " [0.99700000000000044 0.99700000000000044 1.0000000000000004 ... 0.99900000000000044 1.0000000000000004 0.99700000000000044]\n",
            " ...\n",
            " [0.99700000000000044 0.99900000000000044 0.99900000000000044 ... 1.0000000000000004 1.0000000000000004 0.99800000000000044]\n",
            " [0.99900000000000044 0.99600000000000044 0.99600000000000044 ... 0.99900000000000044 0.99900000000000044 0.99000000000000044]\n",
            " [1.0000000000000004 0.99200000000000044 0.99900000000000044 ... 0.99900000000000044 0.99600000000000044 0.99700000000000044]]\n"
          ],
          "name": "stdout"
        }
      ]
    },
    {
      "cell_type": "markdown",
      "metadata": {
        "id": "Fp8bF7qI-AlE",
        "colab_type": "text"
      },
      "source": [
        "As you can see from the output above, the model converge before all `MODEL_MAX_ITERATION_UPDATES` were exhausted. "
      ]
    },
    {
      "cell_type": "code",
      "metadata": {
        "id": "slX0m4NOWLRa",
        "colab_type": "code",
        "outputId": "571ad60a-b235-420f-951d-5b45f7fc9824",
        "colab": {
          "base_uri": "https://localhost:8080/",
          "height": 431
        }
      },
      "source": [
        "plt.figure(figsize=(18, 9))\n",
        "\n",
        "x_axis = [i*2 for i in range(len(model_summary))]\n",
        "y_min = [model_summary[i][0] for i in range(len(model_summary))]\n",
        "y_mean = [model_summary[i][1] for i in range(len(model_summary))]\n",
        "y_max = [model_summary[i][2] for i in range(len(model_summary))]\n",
        "plt.plot(x_axis, y_min)\n",
        "plt.plot(x_axis, y_mean)\n",
        "plt.plot(x_axis, y_max)\n",
        "plt.xlabel(\"Fitness evaluations\")\n",
        "plt.ylabel(\"Probabilities (min/mean/max)\")\n",
        "\n",
        "plt.show()"
      ],
      "execution_count": 0,
      "outputs": [
        {
          "output_type": "display_data",
          "data": {
            "image/png": "[encoded data removed]",
            "text/plain": [
              "<Figure size 1296x648 with 1 Axes>"
            ]
          },
          "metadata": {
            "tags": [],
            "needs_background": "light"
          }
        }
      ]
    },
    {
      "cell_type": "markdown",
      "metadata": {
        "id": "V8fDt2_t-UmV",
        "colab_type": "text"
      },
      "source": [
        "The graph above shows that the model converged for all avalable loci. It also shows that all the probabilities $p_1$ for each locus converged to $1$. This indicates that the solution to `one_max` is the `(10, 10)` tensor individual where all loci contain 1. The graphs below illustarte this point, showing the histogram of all tensor values, as well as, a color map of those values."
      ]
    },
    {
      "cell_type": "code",
      "metadata": {
        "id": "HMs2x6Vn48zO",
        "colab_type": "code",
        "outputId": "1568d148-6392-4e9e-be2f-3049beb2948c",
        "colab": {
          "base_uri": "https://localhost:8080/",
          "height": 486
        }
      },
      "source": [
        "plt.figure(figsize=(18, 9))\n",
        "\n",
        "if len(INDIVIDUAL_SHAPE) == 2:\n",
        "    plt.subplot(121)\n",
        "\n",
        "plt.hist(tf.reshape(model, (POSSIBLE_LOCI,) ).numpy())\n",
        "plt.xlabel(\"Probabilities\")\n",
        "plt.ylabel(\"Loci\")\n",
        "plt.grid(True)\n",
        "plt.suptitle(\"Final model distribution visualization\")\n",
        "\n",
        "if len(INDIVIDUAL_SHAPE) == 2:\n",
        "    plt.subplot(122)\n",
        "    plt.pcolormesh(model.numpy(), cmap='RdBu')\n",
        "    plt.colorbar()\n",
        "\n",
        "plt.show()"
      ],
      "execution_count": 0,
      "outputs": [
        {
          "output_type": "display_data",
          "data": {
            "image/png": "[encoded data removed]",
            "text/plain": [
              "<Figure size 1296x648 with 3 Axes>"
            ]
          },
          "metadata": {
            "tags": [],
            "needs_background": "light"
          }
        }
      ]
    },
    {
      "cell_type": "markdown",
      "metadata": {
        "id": "e7x9BvX9_oUy",
        "colab_type": "text"
      },
      "source": [
        "# Appendix\n",
        "\n",
        "The above `evolve` code is inteded for illustrative purposes. If you want to construct a non-eagger TensorFlow graph that you can compile, just use the definition below instead."
      ]
    },
    {
      "cell_type": "code",
      "metadata": {
        "id": "vyFr85QVfe9Z",
        "colab_type": "code",
        "colab": {}
      },
      "source": [
        "@tf.function\n",
        "def evolve_non_eager(model, epochs):\n",
        "  for i in range(epochs):\n",
        "    model.assign_add(compute_udate(model))"
      ],
      "execution_count": 0,
      "outputs": []
    }
  ]
}